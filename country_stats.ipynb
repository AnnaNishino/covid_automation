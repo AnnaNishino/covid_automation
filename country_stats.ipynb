{
 "cells": [
  {
   "cell_type": "code",
   "execution_count": 15,
   "metadata": {},
   "outputs": [],
   "source": [
    "import pandas as pd\n",
    "from datetime import datetime,timedelta"
   ]
  },
  {
   "cell_type": "code",
   "execution_count": 35,
   "metadata": {},
   "outputs": [],
   "source": [
    "countries = pd.read_csv('https://raw.githubusercontent.com/kazuhirokida/classification/master/JHU_Classification.csv',na_filter=False)"
   ]
  },
  {
   "cell_type": "code",
   "execution_count": 36,
   "metadata": {},
   "outputs": [],
   "source": [
    "jhu = pd.read_csv('https://github.com/kazuhirokida/covid-19/raw/master/countries.csv',na_filter=False)"
   ]
  },
  {
   "cell_type": "code",
   "execution_count": 37,
   "metadata": {},
   "outputs": [],
   "source": [
    "iso = pd.read_csv('https://raw.githubusercontent.com/kazuhirokida/classification/master/ISO.csv',na_filter=False)"
   ]
  },
  {
   "cell_type": "code",
   "execution_count": 38,
   "metadata": {},
   "outputs": [],
   "source": [
    "un = pd.read_csv('https://population.un.org/wpp/Download/Files/1_Indicators%20(Standard)/CSV_FILES/WPP2019_TotalPopulationBySex.csv')\n",
    "un = un[(un.Time==2020)&(un.Variant=='Medium')]"
   ]
  },
  {
   "cell_type": "code",
   "execution_count": 39,
   "metadata": {},
   "outputs": [],
   "source": [
    "countries['Japanese'] = countries.ISO2.map(jhu.set_index('Code').Japanese.to_dict())\n",
    "countries['latlong'] = countries.ISO2.map(jhu.set_index('Code').latlong.to_dict())\n",
    "countries['Numeric'] = countries.ISO2.map(iso.set_index('Alpha-2 code').Numeric.to_dict())"
   ]
  },
  {
   "cell_type": "code",
   "execution_count": 40,
   "metadata": {},
   "outputs": [],
   "source": [
    "countries['Region_j'] = countries.Region.map(\n",
    "    {'Africa':'アフリカ','Asia':'アジア','Cruise Liner':'クルーズ船','Europe':'欧州','Latin America and Caribbean':'南米','Middle East':'中東',\n",
    "     'North America':'北米','Oceania':'オセアニア'})"
   ]
  },
  {
   "cell_type": "code",
   "execution_count": 41,
   "metadata": {},
   "outputs": [
    {
     "data": {
      "text/html": [
       "<div>\n",
       "<style scoped>\n",
       "    .dataframe tbody tr th:only-of-type {\n",
       "        vertical-align: middle;\n",
       "    }\n",
       "\n",
       "    .dataframe tbody tr th {\n",
       "        vertical-align: top;\n",
       "    }\n",
       "\n",
       "    .dataframe thead th {\n",
       "        text-align: right;\n",
       "    }\n",
       "</style>\n",
       "<table border=\"1\" class=\"dataframe\">\n",
       "  <thead>\n",
       "    <tr style=\"text-align: right;\">\n",
       "      <th></th>\n",
       "      <th>ISO2</th>\n",
       "      <th>ISO3</th>\n",
       "      <th>Country</th>\n",
       "      <th>Region</th>\n",
       "      <th>Classification</th>\n",
       "      <th>Japanese</th>\n",
       "      <th>latlong</th>\n",
       "      <th>Numeric</th>\n",
       "      <th>Region_j</th>\n",
       "    </tr>\n",
       "  </thead>\n",
       "  <tbody>\n",
       "    <tr>\n",
       "      <th>82</th>\n",
       "      <td>DP*</td>\n",
       "      <td>DP*</td>\n",
       "      <td>Diamond Princess</td>\n",
       "      <td>Cruise Liner</td>\n",
       "      <td>Other*</td>\n",
       "      <td>ダイヤモンド・プリンセス（クルーズ船）</td>\n",
       "      <td>34.000,143.000</td>\n",
       "      <td>NaN</td>\n",
       "      <td>クルーズ船</td>\n",
       "    </tr>\n",
       "    <tr>\n",
       "      <th>83</th>\n",
       "      <td>MS*</td>\n",
       "      <td>MSZ*</td>\n",
       "      <td>MS Zaandam</td>\n",
       "      <td>Cruise Liner</td>\n",
       "      <td>Other*</td>\n",
       "      <td>MSザーンダム（クルーズ船）</td>\n",
       "      <td></td>\n",
       "      <td>NaN</td>\n",
       "      <td>クルーズ船</td>\n",
       "    </tr>\n",
       "    <tr>\n",
       "      <th>93</th>\n",
       "      <td>CI*</td>\n",
       "      <td>CI*</td>\n",
       "      <td>Channel Islands</td>\n",
       "      <td>Europe</td>\n",
       "      <td>Developed</td>\n",
       "      <td>NaN</td>\n",
       "      <td>NaN</td>\n",
       "      <td>NaN</td>\n",
       "      <td>欧州</td>\n",
       "    </tr>\n",
       "    <tr>\n",
       "      <th>113</th>\n",
       "      <td>XK</td>\n",
       "      <td>XKX</td>\n",
       "      <td>Kosovo</td>\n",
       "      <td>Europe</td>\n",
       "      <td>Developing</td>\n",
       "      <td>コソボ</td>\n",
       "      <td>42.662,21.158</td>\n",
       "      <td>NaN</td>\n",
       "      <td>欧州</td>\n",
       "    </tr>\n",
       "  </tbody>\n",
       "</table>\n",
       "</div>"
      ],
      "text/plain": [
       "    ISO2  ISO3           Country        Region Classification  \\\n",
       "82   DP*   DP*  Diamond Princess  Cruise Liner         Other*   \n",
       "83   MS*  MSZ*        MS Zaandam  Cruise Liner         Other*   \n",
       "93   CI*   CI*   Channel Islands        Europe      Developed   \n",
       "113   XK   XKX            Kosovo        Europe     Developing   \n",
       "\n",
       "                Japanese         latlong  Numeric Region_j  \n",
       "82   ダイヤモンド・プリンセス（クルーズ船）  34.000,143.000      NaN    クルーズ船  \n",
       "83        MSザーンダム（クルーズ船）                      NaN    クルーズ船  \n",
       "93                   NaN             NaN      NaN       欧州  \n",
       "113                  コソボ   42.662,21.158      NaN       欧州  "
      ]
     },
     "execution_count": 41,
     "metadata": {},
     "output_type": "execute_result"
    }
   ],
   "source": [
    "countries[countries.Numeric.isna()]"
   ]
  },
  {
   "cell_type": "code",
   "execution_count": 42,
   "metadata": {},
   "outputs": [],
   "source": [
    "countries['population'] = countries.Numeric.map(un.set_index('LocID').PopTotal.to_dict())"
   ]
  },
  {
   "cell_type": "code",
   "execution_count": 45,
   "metadata": {},
   "outputs": [],
   "source": [
    "countries = countries.append(pd.Series({'ISO2':'NaN','ISO3':'NaN','Country':'Cruise Liner','Region':'Cruise Liner',\n",
    "                      'Classification':'Other*','Japanese':'クルーズ船などその他','latlong':'34.000,143.000',\n",
    "                     'Numeric':'NaN'}),ignore_index=True)"
   ]
  },
  {
   "cell_type": "code",
   "execution_count": 47,
   "metadata": {},
   "outputs": [],
   "source": [
    "countries.to_csv('country_stats.csv', encoding='utf_8_sig')"
   ]
  },
  {
   "cell_type": "code",
   "execution_count": null,
   "metadata": {},
   "outputs": [],
   "source": []
  }
 ],
 "metadata": {
  "kernelspec": {
   "display_name": "Python 3",
   "language": "python",
   "name": "python3"
  },
  "language_info": {
   "codemirror_mode": {
    "name": "ipython",
    "version": 3
   },
   "file_extension": ".py",
   "mimetype": "text/x-python",
   "name": "python",
   "nbconvert_exporter": "python",
   "pygments_lexer": "ipython3",
   "version": "3.7.1"
  }
 },
 "nbformat": 4,
 "nbformat_minor": 4
}
