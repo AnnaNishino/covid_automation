{
 "cells": [
  {
   "cell_type": "code",
   "execution_count": 15,
   "metadata": {},
   "outputs": [],
   "source": [
    "import pandas as pd\n",
    "from datetime import datetime,timedelta"
   ]
  },
  {
   "cell_type": "code",
   "execution_count": 16,
   "metadata": {},
   "outputs": [],
   "source": [
    "countries = pd.read_csv('https://raw.githubusercontent.com/kazuhirokida/classification/master/JHU_Classification.csv',na_filter=False)"
   ]
  },
  {
   "cell_type": "code",
   "execution_count": 17,
   "metadata": {},
   "outputs": [],
   "source": [
    "jhu = pd.read_csv('https://github.com/kazuhirokida/covid-19/raw/master/countries.csv',na_filter=False)"
   ]
  },
  {
   "cell_type": "code",
   "execution_count": 18,
   "metadata": {},
   "outputs": [],
   "source": [
    "iso = pd.read_csv('https://raw.githubusercontent.com/kazuhirokida/classification/master/ISO.csv',na_filter=False)"
   ]
  },
  {
   "cell_type": "code",
   "execution_count": null,
   "metadata": {},
   "outputs": [],
   "source": [
    "un = pd.read_csv('https://population.un.org/wpp/Download/Files/1_Indicators%20(Standard)/CSV_FILES/WPP2019_TotalPopulationBySex.csv')\n",
    "un = un[(un.Time==2020)&(un.Variant=='Medium')]"
   ]
  },
  {
   "cell_type": "code",
   "execution_count": null,
   "metadata": {},
   "outputs": [],
   "source": [
    "countries['Japanese'] = countries.ISO2.map(jhu.set_index('Code').Japanese.to_dict())\n",
    "countries['latlong'] = countries.ISO2.map(jhu.set_index('Code').latlong.to_dict())\n",
    "countries['Numeric'] = countries.ISO2.map(iso.set_index('Alpha-2 code').Numeric.to_dict())"
   ]
  },
  {
   "cell_type": "code",
   "execution_count": null,
   "metadata": {},
   "outputs": [],
   "source": [
    "countries['Region_j'] = countries.Region.map(\n",
    "    {'Africa':'アフリカ','Asia':'アジア','Cruise Liner':'クルーズ船','Europe':'欧州','Latin America and Caribbean':'南米','Middle East':'中東',\n",
    "     'North America':'北米','Oceania':'オセアニア'})"
   ]
  },
  {
   "cell_type": "code",
   "execution_count": null,
   "metadata": {},
   "outputs": [],
   "source": [
    "countries[countries.Numeric.isna()]"
   ]
  },
  {
   "cell_type": "code",
   "execution_count": null,
   "metadata": {},
   "outputs": [],
   "source": [
    "countries['population'] = countries.numeric.map(un.set_index('LocID').PopTotal.to_dict())['population'] = countries.numeric.map(un.set_index('LocID').PopTotal.to_dict())"
   ]
  },
  {
   "cell_type": "code",
   "execution_count": null,
   "metadata": {},
   "outputs": [],
   "source": []
  }
 ],
 "metadata": {
  "kernelspec": {
   "display_name": "Python 3",
   "language": "python",
   "name": "python3"
  },
  "language_info": {
   "codemirror_mode": {
    "name": "ipython",
    "version": 3
   },
   "file_extension": ".py",
   "mimetype": "text/x-python",
   "name": "python",
   "nbconvert_exporter": "python",
   "pygments_lexer": "ipython3",
   "version": "3.7.1"
  }
 },
 "nbformat": 4,
 "nbformat_minor": 4
}
